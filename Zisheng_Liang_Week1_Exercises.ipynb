{
  "cells": [
    {
      "cell_type": "markdown",
      "metadata": {
        "id": "eH2w8VXEWuFM"
      },
      "source": [
        "# Coding exercises\n",
        "Exercises 1-3 are thought exercises that don't require coding.\n",
        "\n",
        "1. Explore the Jupyter Lab interface and look at some of the shortcuts available. Don't worry about memorizing them now (eventually they will become second nature and save you a lot of time), just get comfortable using notebooks.\n",
        "\n",
        "2. Are all data normally distributed?\n",
        "\n",
        "Answer: No, not all data are normally distributed. While the normal distribution (bell curve) is common in many natural and social phenomena (e.g., height, test scores), many datasets follow other distributions, such as:\n",
        "Skewed distributions (e.g., income, where most values are low and a few are very high)\n",
        "Uniform distributions (equal likelihood across a range)\n",
        "Bimodal or multimodal distributions (two or more peaks)\n",
        "Exponential or Poisson distributions (often used in time-to-event data or counts)\n",
        "\n",
        "\n",
        "3. When would it make more sense to use the median instead of the mean for the measure of center?\n",
        "\n",
        "Answer: Use mean for symmetric, normally distributed data; use median for skewed or outlier-prone data."
      ]
    },
    {
      "cell_type": "markdown",
      "metadata": {
        "id": "BN4pi-pjWuFQ"
      },
      "source": [
        "## Exercise 4: Generate the data by running this cell\n",
        "This will give you a list of numbers to work with in the remaining exercises."
      ]
    },
    {
      "cell_type": "code",
      "execution_count": 4,
      "metadata": {
        "colab": {
          "base_uri": "https://localhost:8080/"
        },
        "id": "NA50PP64WuFQ",
        "outputId": "e584efe3-c1ba-49ae-8d03-632e7e27a112"
      },
      "outputs": [
        {
          "output_type": "stream",
          "name": "stdout",
          "text": [
            "[844000.0, 758000.0, 421000.0, 259000.0, 511000.0, 405000.0, 784000.0, 303000.0, 477000.0, 583000.0, 908000.0, 505000.0, 282000.0, 756000.0, 618000.0, 251000.0, 910000.0, 983000.0, 810000.0, 902000.0, 310000.0, 730000.0, 899000.0, 684000.0, 472000.0, 101000.0, 434000.0, 611000.0, 913000.0, 967000.0, 477000.0, 865000.0, 260000.0, 805000.0, 549000.0, 14000.0, 720000.0, 399000.0, 825000.0, 668000.0, 1000.0, 494000.0, 868000.0, 244000.0, 325000.0, 870000.0, 191000.0, 568000.0, 239000.0, 968000.0, 803000.0, 448000.0, 80000.0, 320000.0, 508000.0, 933000.0, 109000.0, 551000.0, 707000.0, 547000.0, 814000.0, 540000.0, 964000.0, 603000.0, 588000.0, 445000.0, 596000.0, 385000.0, 576000.0, 290000.0, 189000.0, 187000.0, 613000.0, 657000.0, 477000.0, 90000.0, 758000.0, 877000.0, 923000.0, 842000.0, 898000.0, 923000.0, 541000.0, 391000.0, 705000.0, 276000.0, 812000.0, 849000.0, 895000.0, 590000.0, 950000.0, 580000.0, 451000.0, 660000.0, 996000.0, 917000.0, 793000.0, 82000.0, 613000.0, 486000.0]\n"
          ]
        }
      ],
      "source": [
        "import random\n",
        "random.seed(0)\n",
        "salaries = [round(random.random()*1000000, -3) for _ in range(100)]\n",
        "print(list(salaries))"
      ]
    },
    {
      "cell_type": "markdown",
      "metadata": {
        "id": "Uo2cja0QWuFS"
      },
      "source": [
        "## Exercise 5: Calculating statistics and verifying\n",
        "\n",
        "Use the data generated above to calulate in code the following statistics without importing the statistics module. Then use the statistics module to verify your results.  Import the statistics module from https://docs.python.org/3/library/statistics.html\n",
        "\n",
        "### mean"
      ]
    },
    {
      "cell_type": "code",
      "execution_count": 5,
      "metadata": {
        "colab": {
          "base_uri": "https://localhost:8080/"
        },
        "id": "TH67E7RPWuFS",
        "outputId": "c4c94b07-7334-44cf-d0e3-24617205a375"
      },
      "outputs": [
        {
          "output_type": "stream",
          "name": "stdout",
          "text": [
            "Manual mean: 585690.0\n",
            "Statistics module mean: 585690.0\n",
            "Results match: True\n"
          ]
        }
      ],
      "source": [
        "# Calculate the mean without the statistics module\n",
        "manual_mean = sum(salaries) / len(salaries)\n",
        "print(f\"Manual mean: {manual_mean}\")\n",
        "\n",
        "# Verify with the statistics module\n",
        "import statistics\n",
        "stats_mean = statistics.mean(salaries)\n",
        "print(f\"Statistics module mean: {stats_mean}\")\n",
        "\n",
        "# Check if the results match\n",
        "print(f\"Results match: {manual_mean == stats_mean}\")"
      ]
    },
    {
      "cell_type": "markdown",
      "metadata": {
        "id": "_kfzx8RyWuFS"
      },
      "source": [
        "### median"
      ]
    },
    {
      "cell_type": "code",
      "execution_count": 6,
      "metadata": {
        "colab": {
          "base_uri": "https://localhost:8080/"
        },
        "id": "CLDe6FRwWuFS",
        "outputId": "d746452f-6b2f-424e-be01-09562c0c3716"
      },
      "outputs": [
        {
          "output_type": "stream",
          "name": "stdout",
          "text": [
            "Manual median: 589000.0\n",
            "Statistics module median: 589000.0\n",
            "Results match: True\n"
          ]
        }
      ],
      "source": [
        "# Calculate the median without the statistics module\n",
        "salaries.sort()\n",
        "n = len(salaries)\n",
        "if n % 2 == 0:\n",
        "    # If the number of data points is even, the median is the average of the two middle values\n",
        "    median_manual = (salaries[n//2 - 1] + salaries[n//2]) / 2\n",
        "else:\n",
        "    # If the number of data points is odd, the median is the middle value\n",
        "    median_manual = salaries[n//2]\n",
        "print(f\"Manual median: {median_manual}\")\n",
        "\n",
        "# Verify with the statistics module\n",
        "import statistics\n",
        "median_stats = statistics.median(salaries)\n",
        "print(f\"Statistics module median: {median_stats}\")\n",
        "\n",
        "# Check if the results match\n",
        "print(f\"Results match: {median_manual == median_stats}\")"
      ]
    },
    {
      "cell_type": "markdown",
      "metadata": {
        "id": "KVkhKVQjWuFT"
      },
      "source": [
        "### mode"
      ]
    },
    {
      "cell_type": "code",
      "execution_count": 7,
      "metadata": {
        "colab": {
          "base_uri": "https://localhost:8080/"
        },
        "id": "4TCx2CZyWuFT",
        "outputId": "dbb94ca5-98ae-48fc-e10a-50dcb855c95f"
      },
      "outputs": [
        {
          "output_type": "stream",
          "name": "stdout",
          "text": [
            "Manual mode: [477000.0]\n",
            "Statistics module mode: 477000.0\n",
            "Results match: True\n"
          ]
        }
      ],
      "source": [
        "# Calculate the mode without the statistics module\n",
        "from collections import Counter\n",
        "count = Counter(salaries)\n",
        "# Find the most common element(s)\n",
        "max_freq = max(count.values())\n",
        "manual_mode = [k for k, v in count.items() if v == max_freq]\n",
        "print(f\"Manual mode: {manual_mode}\")\n",
        "\n",
        "# Verify with the statistics module\n",
        "import statistics\n",
        "try:\n",
        "    stats_mode = statistics.mode(salaries)\n",
        "    print(f\"Statistics module mode: {stats_mode}\")\n",
        "    # Check if the results match (only if there is a single mode)\n",
        "    if len(manual_mode) == 1:\n",
        "      print(f\"Results match: {manual_mode[0] == stats_mode}\")\n",
        "    else:\n",
        "      print(\"Cannot directly compare manual mode (multiple modes) with statistics.mode (single mode)\")\n",
        "except statistics.StatisticsError as e:\n",
        "    print(f\"Statistics module error: {e}\")\n",
        "    print(\"Cannot calculate mode with statistics.mode when there are multiple modes or no mode.\")"
      ]
    },
    {
      "cell_type": "markdown",
      "metadata": {
        "id": "iS64-QTUWuFT"
      },
      "source": [
        "### sample variance\n",
        "Remember to use Bessel's correction."
      ]
    },
    {
      "cell_type": "code",
      "execution_count": 25,
      "metadata": {
        "colab": {
          "base_uri": "https://localhost:8080/"
        },
        "id": "t2mLAPzWWuFU",
        "outputId": "4b9ce64d-cf46-4627-a958-df18d66cd570"
      },
      "outputs": [
        {
          "output_type": "stream",
          "name": "stdout",
          "text": [
            "Manual sample variance: 70664054444.44444\n",
            "Statistics module sample variance: 70664054444.44444\n",
            "Results match: True\n"
          ]
        }
      ],
      "source": [
        "# Calculate the sample variance without the statistics module (using Bessel's correction)\n",
        "n = len(salaries)\n",
        "manual_mean = sum(salaries) / n\n",
        "manual_variance = sum([(x - manual_mean) ** 2 for x in salaries]) / (n - 1)\n",
        "print(f\"Manual sample variance: {manual_variance}\")\n",
        "\n",
        "# Verify with the statistics module\n",
        "import statistics\n",
        "stats_variance = statistics.variance(salaries)\n",
        "print(f\"Statistics module sample variance: {stats_variance}\")\n",
        "\n",
        "# Check if the results match\n",
        "print(f\"Results match: {manual_variance == stats_variance}\")"
      ]
    },
    {
      "cell_type": "markdown",
      "metadata": {
        "id": "yo28Ctk3WuFU"
      },
      "source": [
        "### sample standard deviation\n",
        "Remember to use Bessel's correction."
      ]
    },
    {
      "cell_type": "code",
      "execution_count": 9,
      "metadata": {
        "colab": {
          "base_uri": "https://localhost:8080/"
        },
        "id": "9qVE4wiSWuFU",
        "outputId": "16fe61e0-57c1-4d6d-917b-a28f5bd1092d"
      },
      "outputs": [
        {
          "output_type": "stream",
          "name": "stdout",
          "text": [
            "Manual sample standard deviation: 265827.11382484\n",
            "Statistics module sample standard deviation: 265827.11382484\n",
            "Results match: True\n"
          ]
        }
      ],
      "source": [
        "# Calculate the sample standard deviation without the statistics module (using Bessel's correction)\n",
        "n = len(salaries)\n",
        "manual_mean = sum(salaries) / n\n",
        "manual_std_dev = (sum([(x - manual_mean) ** 2 for x in salaries]) / (n - 1)) ** 0.5\n",
        "print(f\"Manual sample standard deviation: {manual_std_dev}\")\n",
        "\n",
        "# Verify with the statistics module\n",
        "import statistics\n",
        "stats_std_dev = statistics.stdev(salaries)\n",
        "print(f\"Statistics module sample standard deviation: {stats_std_dev}\")\n",
        "\n",
        "# Check if the results match\n",
        "print(f\"Results match: {manual_std_dev == stats_std_dev}\")"
      ]
    },
    {
      "cell_type": "markdown",
      "metadata": {
        "id": "0zi9cEotWuFU"
      },
      "source": [
        "## Exercise 6: Calculating more statistics\n",
        "### range"
      ]
    },
    {
      "cell_type": "code",
      "execution_count": 24,
      "metadata": {
        "colab": {
          "base_uri": "https://localhost:8080/"
        },
        "id": "7EIE84XpWuFU",
        "outputId": "a27997cf-c051-4a37-89ce-1439eac9361d"
      },
      "outputs": [
        {
          "output_type": "stream",
          "name": "stdout",
          "text": [
            "Manual range: 995000.0\n"
          ]
        }
      ],
      "source": [
        "# Calculate the range\n",
        "manual_range = max(salaries) - min(salaries)\n",
        "print(f\"Manual range: {manual_range}\")"
      ]
    },
    {
      "cell_type": "markdown",
      "metadata": {
        "id": "A3UuRE8HWuFU"
      },
      "source": [
        "### coefficient of variation"
      ]
    },
    {
      "cell_type": "code",
      "execution_count": 23,
      "metadata": {
        "colab": {
          "base_uri": "https://localhost:8080/"
        },
        "id": "_Ce4j-ynWuFV",
        "outputId": "fb3a40c9-d9f8-4c20-8c6b-5849ef45528b"
      },
      "outputs": [
        {
          "output_type": "stream",
          "name": "stdout",
          "text": [
            "Manual coefficient of variation: 45.39%\n"
          ]
        }
      ],
      "source": [
        "# Calculate the coefficient of variation\n",
        "# CV = (Standard Deviation / Mean) * 100\n",
        "# We'll use the previously calculated manual standard deviation and manual mean\n",
        "manual_cv = (manual_std_dev / manual_mean) * 100\n",
        "print(f\"Manual coefficient of variation: {manual_cv:.2f}%\")"
      ]
    },
    {
      "cell_type": "markdown",
      "metadata": {
        "id": "pZZd9a-4WuFV"
      },
      "source": [
        "### interquartile range"
      ]
    },
    {
      "cell_type": "code",
      "execution_count": 14,
      "metadata": {
        "colab": {
          "base_uri": "https://localhost:8080/"
        },
        "id": "WHU7Fa9BWuFV",
        "outputId": "6343407b-e6de-4805-86d4-7ed4e293bb4a"
      },
      "outputs": [
        {
          "output_type": "stream",
          "name": "stdout",
          "text": [
            "Manual interquartile range: 417500.0\n"
          ]
        }
      ],
      "source": [
        "# Calculate the interquartile range without the statistics module\n",
        "# Quartile 1 (Q1) is the median of the lower half of the data\n",
        "# Quartile 3 (Q3) is the median of the upper half of the data\n",
        "# IQR = Q3 - Q1\n",
        "\n",
        "salaries_sorted = sorted(salaries)\n",
        "n = len(salaries_sorted)\n",
        "\n",
        "# Find Q1\n",
        "if n % 2 == 0:\n",
        "    lower_half = salaries_sorted[:n//2]\n",
        "else:\n",
        "    lower_half = salaries_sorted[:n//2 + 1] # Include the median in the lower half for odd n (method 3 in some definitions)\n",
        "\n",
        "n_lower = len(lower_half)\n",
        "if n_lower % 2 == 0:\n",
        "    q1_manual = (lower_half[n_lower//2 - 1] + lower_half[n_lower//2]) / 2\n",
        "else:\n",
        "    q1_manual = lower_half[n_lower//2]\n",
        "\n",
        "# Find Q3\n",
        "if n % 2 == 0:\n",
        "    upper_half = salaries_sorted[n//2:]\n",
        "else:\n",
        "    upper_half = salaries_sorted[n//2:]\n",
        "\n",
        "n_upper = len(upper_half)\n",
        "if n_upper % 2 == 0:\n",
        "    q3_manual = (upper_half[n_upper//2 - 1] + upper_half[n_upper//2]) / 2\n",
        "else:\n",
        "    q3_manual = upper_half[n_upper//2]\n",
        "\n",
        "manual_iqr = q3_manual - q1_manual\n",
        "print(f\"Manual interquartile range: {manual_iqr}\")\n"
      ]
    },
    {
      "cell_type": "markdown",
      "metadata": {
        "id": "7ZAM2gFvWuFV"
      },
      "source": [
        "### quartile coefficent of dispersion"
      ]
    },
    {
      "cell_type": "code",
      "execution_count": 22,
      "metadata": {
        "colab": {
          "base_uri": "https://localhost:8080/"
        },
        "id": "J0KDH3sGWuFV",
        "outputId": "20c4ac08-41c6-44e4-bdb4-c81c2500585d"
      },
      "outputs": [
        {
          "output_type": "stream",
          "name": "stdout",
          "text": [
            "Manual quartile coefficient of dispersion: 0.34\n"
          ]
        }
      ],
      "source": [
        "# Calculate the quartile coefficient of dispersion\n",
        "# QCD = (Q3 - Q1) / (Q3 + Q1)\n",
        "# We'll use the previously calculated manual Q1 and Q3\n",
        "manual_qcd = (q3_manual - q1_manual) / (q3_manual + q1_manual)\n",
        "print(f\"Manual quartile coefficient of dispersion: {manual_qcd:.2f}\")"
      ]
    },
    {
      "cell_type": "markdown",
      "metadata": {
        "id": "Q-w5z_PYWuFV"
      },
      "source": [
        "## Exercise 7: Scaling data\n",
        "### min-max scaling"
      ]
    },
    {
      "cell_type": "code",
      "execution_count": 15,
      "metadata": {
        "colab": {
          "base_uri": "https://localhost:8080/"
        },
        "id": "KYOsRA3vWuFV",
        "outputId": "3079e308-b8a8-42fa-ee8b-2d5a920edbdd"
      },
      "outputs": [
        {
          "output_type": "execute_result",
          "data": {
            "text/plain": [
              "[0.0,\n",
              " 0.01306532663316583,\n",
              " 0.07939698492462312,\n",
              " 0.0814070351758794,\n",
              " 0.08944723618090453]"
            ]
          },
          "metadata": {},
          "execution_count": 15
        }
      ],
      "source": [
        "min_salary, max_salary = min(salaries), max(salaries)\n",
        "salary_range = max_salary - min_salary\n",
        "\n",
        "min_max_scaled = [(x - min_salary) / salary_range for x in salaries]\n",
        "min_max_scaled[:5]"
      ]
    },
    {
      "cell_type": "markdown",
      "metadata": {
        "id": "Yk0R1ix_WuFW"
      },
      "source": [
        "### standardizing"
      ]
    },
    {
      "cell_type": "code",
      "execution_count": 21,
      "metadata": {
        "colab": {
          "base_uri": "https://localhost:8080/"
        },
        "id": "oDYBMLAgWuFW",
        "outputId": "37aa7f25-02d3-4c5d-c71f-985f57e13b3c"
      },
      "outputs": [
        {
          "output_type": "execute_result",
          "data": {
            "text/plain": [
              "[-2.199512275430514,\n",
              " -2.150608309943509,\n",
              " -1.9023266390094862,\n",
              " -1.8948029520114855,\n",
              " -1.8647082040194827]"
            ]
          },
          "metadata": {},
          "execution_count": 21
        }
      ],
      "source": [
        "from statistics import mean, stdev\n",
        "\n",
        "mean_salary, std_salary = mean(salaries), stdev(salaries)\n",
        "\n",
        "standardized = [(x - mean_salary) / std_salary for x in salaries]\n",
        "standardized[:5]"
      ]
    },
    {
      "cell_type": "markdown",
      "metadata": {
        "id": "KufrUZoOWuFW"
      },
      "source": [
        "## Exercise 8: Calculating covariance and correlation\n",
        "### covariance"
      ]
    },
    {
      "cell_type": "code",
      "execution_count": 20,
      "metadata": {
        "colab": {
          "base_uri": "https://localhost:8080/"
        },
        "id": "Nq5ypkCyWuFW",
        "outputId": "a0119a8d-b1bc-469c-c9b2-eb6561cad423"
      },
      "outputs": [
        {
          "output_type": "execute_result",
          "data": {
            "text/plain": [
              "0.26449129918250414"
            ]
          },
          "metadata": {},
          "execution_count": 20
        }
      ],
      "source": [
        "import numpy as np\n",
        "np.cov(min_max_scaled, standardized)\n",
        "\n",
        "from statistics import mean\n",
        "running_total = []\n",
        "for x, y in zip(min_max_scaled, standardized):\n",
        "    running_total.append((x - mean(min_max_scaled)) * (y - mean(standardized)))\n",
        "\n",
        "cov = mean(running_total)\n",
        "cov"
      ]
    },
    {
      "cell_type": "markdown",
      "metadata": {
        "id": "aP82jaFGWuFW"
      },
      "source": [
        "### Pearson correlation coefficient ($\\rho$)"
      ]
    },
    {
      "cell_type": "code",
      "execution_count": 19,
      "metadata": {
        "colab": {
          "base_uri": "https://localhost:8080/"
        },
        "id": "NcWEVcHqWuFW",
        "outputId": "f7dd3130-2162-4051-bd27-5b4ad4e2ede2"
      },
      "outputs": [
        {
          "output_type": "execute_result",
          "data": {
            "text/plain": [
              "0.9900000000000001"
            ]
          },
          "metadata": {},
          "execution_count": 19
        }
      ],
      "source": [
        "from statistics import stdev\n",
        "cov / (stdev(min_max_scaled) * stdev(standardized))"
      ]
    }
  ],
  "metadata": {
    "kernelspec": {
      "display_name": "Python 3 (ipykernel)",
      "language": "python",
      "name": "python3"
    },
    "language_info": {
      "codemirror_mode": {
        "name": "ipython",
        "version": 3
      },
      "file_extension": ".py",
      "mimetype": "text/x-python",
      "name": "python",
      "nbconvert_exporter": "python",
      "pygments_lexer": "ipython3",
      "version": "3.9.16"
    },
    "colab": {
      "provenance": []
    }
  },
  "nbformat": 4,
  "nbformat_minor": 0
}